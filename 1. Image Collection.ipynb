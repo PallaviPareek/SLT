{
 "cells": [
  {
   "cell_type": "markdown",
   "metadata": {},
   "source": [
    "# 1. Import Dependencies"
   ]
  },
  {
   "cell_type": "code",
   "execution_count": 1,
   "metadata": {},
   "outputs": [
    {
     "name": "stdout",
     "output_type": "stream",
     "text": [
      "Requirement already satisfied: opencv-python in c:\\users\\palla\\onedrive\\desktop\\tfodcourse\\tfod\\lib\\site-packages (4.5.5.64)\n",
      "Requirement already satisfied: numpy>=1.17.3 in c:\\users\\palla\\onedrive\\desktop\\tfodcourse\\tfod\\lib\\site-packages (from opencv-python) (1.22.3)\n"
     ]
    },
    {
     "name": "stderr",
     "output_type": "stream",
     "text": [
      "WARNING: Ignoring invalid distribution -otobuf (c:\\users\\palla\\onedrive\\desktop\\tfodcourse\\tfod\\lib\\site-packages)\n",
      "WARNING: Ignoring invalid distribution -rotobuf (c:\\users\\palla\\onedrive\\desktop\\tfodcourse\\tfod\\lib\\site-packages)\n",
      "WARNING: Ignoring invalid distribution -otobuf (c:\\users\\palla\\onedrive\\desktop\\tfodcourse\\tfod\\lib\\site-packages)\n",
      "WARNING: Ignoring invalid distribution - (c:\\users\\palla\\onedrive\\desktop\\tfodcourse\\tfod\\lib\\site-packages)\n",
      "WARNING: Ignoring invalid distribution -otobuf (c:\\users\\palla\\onedrive\\desktop\\tfodcourse\\tfod\\lib\\site-packages)\n",
      "WARNING: Ignoring invalid distribution -rotobuf (c:\\users\\palla\\onedrive\\desktop\\tfodcourse\\tfod\\lib\\site-packages)\n",
      "WARNING: Ignoring invalid distribution -otobuf (c:\\users\\palla\\onedrive\\desktop\\tfodcourse\\tfod\\lib\\site-packages)\n",
      "WARNING: Ignoring invalid distribution - (c:\\users\\palla\\onedrive\\desktop\\tfodcourse\\tfod\\lib\\site-packages)\n",
      "WARNING: Ignoring invalid distribution -otobuf (c:\\users\\palla\\onedrive\\desktop\\tfodcourse\\tfod\\lib\\site-packages)\n",
      "WARNING: Ignoring invalid distribution -rotobuf (c:\\users\\palla\\onedrive\\desktop\\tfodcourse\\tfod\\lib\\site-packages)\n",
      "WARNING: Ignoring invalid distribution -otobuf (c:\\users\\palla\\onedrive\\desktop\\tfodcourse\\tfod\\lib\\site-packages)\n",
      "WARNING: Ignoring invalid distribution - (c:\\users\\palla\\onedrive\\desktop\\tfodcourse\\tfod\\lib\\site-packages)\n",
      "WARNING: Ignoring invalid distribution -otobuf (c:\\users\\palla\\onedrive\\desktop\\tfodcourse\\tfod\\lib\\site-packages)\n",
      "WARNING: Ignoring invalid distribution -rotobuf (c:\\users\\palla\\onedrive\\desktop\\tfodcourse\\tfod\\lib\\site-packages)\n",
      "WARNING: Ignoring invalid distribution -otobuf (c:\\users\\palla\\onedrive\\desktop\\tfodcourse\\tfod\\lib\\site-packages)\n",
      "WARNING: Ignoring invalid distribution - (c:\\users\\palla\\onedrive\\desktop\\tfodcourse\\tfod\\lib\\site-packages)\n",
      "WARNING: Ignoring invalid distribution -otobuf (c:\\users\\palla\\onedrive\\desktop\\tfodcourse\\tfod\\lib\\site-packages)\n",
      "WARNING: Ignoring invalid distribution -rotobuf (c:\\users\\palla\\onedrive\\desktop\\tfodcourse\\tfod\\lib\\site-packages)\n",
      "WARNING: Ignoring invalid distribution -otobuf (c:\\users\\palla\\onedrive\\desktop\\tfodcourse\\tfod\\lib\\site-packages)\n",
      "WARNING: Ignoring invalid distribution - (c:\\users\\palla\\onedrive\\desktop\\tfodcourse\\tfod\\lib\\site-packages)\n"
     ]
    }
   ],
   "source": [
    "!pip install opencv-python"
   ]
  },
  {
   "cell_type": "code",
   "execution_count": 2,
   "metadata": {},
   "outputs": [],
   "source": [
    "# Import opencv\n",
    "import cv2 \n",
    "\n",
    "# Import uuid\n",
    "import uuid\n",
    "\n",
    "# Import Operating System\n",
    "import os\n",
    "\n",
    "# Import time\n",
    "import time"
   ]
  },
  {
   "cell_type": "markdown",
   "metadata": {},
   "source": [
    "# 2. Define Images to Collect"
   ]
  },
  {
   "cell_type": "code",
   "execution_count": 3,
   "metadata": {},
   "outputs": [],
   "source": [
    "labels = ['thumbsup', 'thumbsdown', 'thankyou', 'one', 'two', 'three', 'A', 'B']\n",
    "labels = ['thankyou']\n",
    "number_imgs = 5"
   ]
  },
  {
   "cell_type": "markdown",
   "metadata": {},
   "source": [
    "# 3. Setup Folders "
   ]
  },
  {
   "cell_type": "code",
   "execution_count": 18,
   "metadata": {},
   "outputs": [],
   "source": [
    "IMAGES_PATH = os.path.join('Tensorflow', 'workspace', 'images', 'collectedimages')"
   ]
  },
  {
   "cell_type": "code",
   "execution_count": 19,
   "metadata": {},
   "outputs": [],
   "source": [
    "if not os.path.exists(IMAGES_PATH):\n",
    "    if os.name == 'posix':\n",
    "        !mkdir -p {IMAGES_PATH}\n",
    "    if os.name == 'nt':\n",
    "         !mkdir {IMAGES_PATH}\n",
    "for label in labels:\n",
    "    path = os.path.join(IMAGES_PATH, label)\n",
    "    if not os.path.exists(path):\n",
    "        !mkdir {path}"
   ]
  },
  {
   "cell_type": "markdown",
   "metadata": {},
   "source": [
    "# 4. Capture Images"
   ]
  },
  {
   "cell_type": "code",
   "execution_count": 20,
   "metadata": {},
   "outputs": [
    {
     "name": "stdout",
     "output_type": "stream",
     "text": [
      "Collecting images for thankyou\n",
      "Collecting image 0\n",
      "Collecting image 1\n",
      "Collecting image 2\n",
      "Collecting image 3\n",
      "Collecting image 4\n"
     ]
    }
   ],
   "source": [
    "for label in labels:\n",
    "    cap = cv2.VideoCapture(0)\n",
    "    print('Collecting images for {}'.format(label))\n",
    "    time.sleep(5)\n",
    "    for imgnum in range(number_imgs):\n",
    "        print('Collecting image {}'.format(imgnum))\n",
    "        ret, frame = cap.read()\n",
    "        imgname = os.path.join(IMAGES_PATH,label,label+'.'+'{}.jpg'.format(str(uuid.uuid1())))\n",
    "        cv2.imwrite(imgname, frame)\n",
    "        cv2.imshow('frame', frame)\n",
    "        time.sleep(2)\n",
    "\n",
    "        if cv2.waitKey(1) & 0xFF == ord('q'):\n",
    "            break\n",
    "cap.release()\n",
    "cv2.destroyAllWindows()"
   ]
  },
  {
   "cell_type": "markdown",
   "metadata": {},
   "source": [
    "# 5. Image Labelling"
   ]
  },
  {
   "cell_type": "code",
   "execution_count": 21,
   "metadata": {},
   "outputs": [
    {
     "name": "stdout",
     "output_type": "stream",
     "text": [
      "Requirement already satisfied: pyqt5 in c:\\users\\palla\\onedrive\\desktop\\tfodcourse\\tfod\\lib\\site-packages (5.15.6)\n",
      "Requirement already satisfied: lxml in c:\\users\\palla\\onedrive\\desktop\\tfodcourse\\tfod\\lib\\site-packages (4.8.0)\n",
      "Requirement already satisfied: PyQt5-Qt5>=5.15.2 in c:\\users\\palla\\onedrive\\desktop\\tfodcourse\\tfod\\lib\\site-packages (from pyqt5) (5.15.2)\n",
      "Requirement already satisfied: PyQt5-sip<13,>=12.8 in c:\\users\\palla\\onedrive\\desktop\\tfodcourse\\tfod\\lib\\site-packages (from pyqt5) (12.10.1)\n"
     ]
    }
   ],
   "source": [
    "!pip install --upgrade pyqt5 lxml"
   ]
  },
  {
   "cell_type": "code",
   "execution_count": 22,
   "metadata": {},
   "outputs": [],
   "source": [
    "LABELIMG_PATH = os.path.join('Tensorflow', 'labelimg')"
   ]
  },
  {
   "cell_type": "code",
   "execution_count": 23,
   "metadata": {},
   "outputs": [],
   "source": [
    "if not os.path.exists(LABELIMG_PATH):\n",
    "    !mkdir {LABELIMG_PATH}\n",
    "    !git clone https://github.com/tzutalin/labelImg {LABELIMG_PATH}"
   ]
  },
  {
   "cell_type": "code",
   "execution_count": 24,
   "metadata": {},
   "outputs": [],
   "source": [
    "if os.name == 'posix':\n",
    "    !make qt5py3\n",
    "if os.name =='nt':\n",
    "    !cd {LABELIMG_PATH} && pyrcc5 -o libs/resources.py resources.qrc"
   ]
  },
  {
   "cell_type": "code",
   "execution_count": 25,
   "metadata": {},
   "outputs": [
    {
     "name": "stdout",
     "output_type": "stream",
     "text": [
      "Image:C:\\Users\\palla\\OneDrive\\Desktop\\TFODCourse\\Tensorflow\\workspace\\images\\collectedimages\\A.732c71e6-d11c-11ec-b63e-e3ea9894947b.jpg -> Annotation:C:/Users/palla/OneDrive/Desktop/TFODCourse/Tensorflow/workspace/images/collectedimages\\A.732c71e6-d11c-11ec-b63e-e3ea9894947b.xml\n",
      "Image:C:\\Users\\palla\\OneDrive\\Desktop\\TFODCourse\\Tensorflow\\workspace\\images\\collectedimages\\A.759d3c44-d11c-11ec-8322-e3ea9894947b.jpg -> Annotation:C:/Users/palla/OneDrive/Desktop/TFODCourse/Tensorflow/workspace/images/collectedimages\\A.759d3c44-d11c-11ec-8322-e3ea9894947b.xml\n",
      "Image:C:\\Users\\palla\\OneDrive\\Desktop\\TFODCourse\\Tensorflow\\workspace\\images\\collectedimages\\A.7464e4d1-d11c-11ec-82aa-e3ea9894947b.jpg -> Annotation:C:/Users/palla/OneDrive/Desktop/TFODCourse/Tensorflow/workspace/images/collectedimages\\A.7464e4d1-d11c-11ec-82aa-e3ea9894947b.xml\n",
      "Image:C:\\Users\\palla\\OneDrive\\Desktop\\TFODCourse\\Tensorflow\\workspace\\images\\collectedimages\\A.d91499d9-d11c-11ec-8fc2-e3ea9894947b.jpg -> Annotation:C:/Users/palla/OneDrive/Desktop/TFODCourse/Tensorflow/workspace/images/collectedimages\\A.d91499d9-d11c-11ec-8fc2-e3ea9894947b.xml\n",
      "Image:C:\\Users\\palla\\OneDrive\\Desktop\\TFODCourse\\Tensorflow\\workspace\\images\\collectedimages\\A.da4c2afe-d11c-11ec-88dd-e3ea9894947b.jpg -> Annotation:C:/Users/palla/OneDrive/Desktop/TFODCourse/Tensorflow/workspace/images/collectedimages\\A.da4c2afe-d11c-11ec-88dd-e3ea9894947b.xml\n",
      "Image:C:\\Users\\palla\\OneDrive\\Desktop\\TFODCourse\\Tensorflow\\workspace\\images\\collectedimages\\B.7afa4e39-d11c-11ec-8f13-e3ea9894947b.jpg -> Annotation:C:/Users/palla/OneDrive/Desktop/TFODCourse/Tensorflow/workspace/images/collectedimages\\B.7afa4e39-d11c-11ec-8f13-e3ea9894947b.xml\n",
      "Image:C:\\Users\\palla\\OneDrive\\Desktop\\TFODCourse\\Tensorflow\\workspace\\images\\collectedimages\\B.7c2f9a31-d11c-11ec-8158-e3ea9894947b.jpg -> Annotation:C:/Users/palla/OneDrive/Desktop/TFODCourse/Tensorflow/workspace/images/collectedimages\\B.7c2f9a31-d11c-11ec-8158-e3ea9894947b.xml\n",
      "Image:C:\\Users\\palla\\OneDrive\\Desktop\\TFODCourse\\Tensorflow\\workspace\\images\\collectedimages\\B.7e9e84d4-d11c-11ec-a87a-e3ea9894947b.jpg -> Annotation:C:/Users/palla/OneDrive/Desktop/TFODCourse/Tensorflow/workspace/images/collectedimages\\B.7e9e84d4-d11c-11ec-a87a-e3ea9894947b.xml\n",
      "Image:C:\\Users\\palla\\OneDrive\\Desktop\\TFODCourse\\Tensorflow\\workspace\\images\\collectedimages\\B.dfaac390-d11c-11ec-a608-e3ea9894947b.jpg -> Annotation:C:/Users/palla/OneDrive/Desktop/TFODCourse/Tensorflow/workspace/images/collectedimages\\B.dfaac390-d11c-11ec-a608-e3ea9894947b.xml\n",
      "Image:C:\\Users\\palla\\OneDrive\\Desktop\\TFODCourse\\Tensorflow\\workspace\\images\\collectedimages\\B.e0e319e1-d11c-11ec-b5a7-e3ea9894947b.jpg -> Annotation:C:/Users/palla/OneDrive/Desktop/TFODCourse/Tensorflow/workspace/images/collectedimages\\B.e0e319e1-d11c-11ec-b5a7-e3ea9894947b.xml\n",
      "Image:C:\\Users\\palla\\OneDrive\\Desktop\\TFODCourse\\Tensorflow\\workspace\\images\\collectedimages\\one.51fba3e4-d11c-11ec-9a54-e3ea9894947b.jpg -> Annotation:C:/Users/palla/OneDrive/Desktop/TFODCourse/Tensorflow/workspace/images/collectedimages\\one.51fba3e4-d11c-11ec-9a54-e3ea9894947b.xml\n",
      "Image:C:\\Users\\palla\\OneDrive\\Desktop\\TFODCourse\\Tensorflow\\workspace\\images\\collectedimages\\one.55a39218-d11c-11ec-a965-e3ea9894947b.jpg -> Annotation:C:/Users/palla/OneDrive/Desktop/TFODCourse/Tensorflow/workspace/images/collectedimages\\one.55a39218-d11c-11ec-a965-e3ea9894947b.xml\n",
      "Image:C:\\Users\\palla\\OneDrive\\Desktop\\TFODCourse\\Tensorflow\\workspace\\images\\collectedimages\\one.56dbecd3-d11c-11ec-ad93-e3ea9894947b.jpg -> Annotation:C:/Users/palla/OneDrive/Desktop/TFODCourse/Tensorflow/workspace/images/collectedimages\\one.56dbecd3-d11c-11ec-ad93-e3ea9894947b.xml\n",
      "Image:C:\\Users\\palla\\OneDrive\\Desktop\\TFODCourse\\Tensorflow\\workspace\\images\\collectedimages\\one.546ade74-d11c-11ec-90ea-e3ea9894947b.jpg -> Annotation:C:/Users/palla/OneDrive/Desktop/TFODCourse/Tensorflow/workspace/images/collectedimages\\one.546ade74-d11c-11ec-90ea-e3ea9894947b.xml\n",
      "Image:C:\\Users\\palla\\OneDrive\\Desktop\\TFODCourse\\Tensorflow\\workspace\\images\\collectedimages\\one.5333be16-d11c-11ec-93b1-e3ea9894947b.jpg -> Annotation:C:/Users/palla/OneDrive/Desktop/TFODCourse/Tensorflow/workspace/images/collectedimages\\one.5333be16-d11c-11ec-93b1-e3ea9894947b.xml\n",
      "Image:C:\\Users\\palla\\OneDrive\\Desktop\\TFODCourse\\Tensorflow\\workspace\\images\\collectedimages\\thankyou.e60cb99b-d11e-11ec-93c0-e3ea9894947b.jpg -> Annotation:C:/Users/palla/OneDrive/Desktop/TFODCourse/Tensorflow/workspace/images/collectedimages\\thankyou.e60cb99b-d11e-11ec-93c0-e3ea9894947b.xml\n",
      "Image:C:\\Users\\palla\\OneDrive\\Desktop\\TFODCourse\\Tensorflow\\workspace\\images\\collectedimages\\thankyou.e741b05c-d11e-11ec-aab1-e3ea9894947b.jpg -> Annotation:C:/Users/palla/OneDrive/Desktop/TFODCourse/Tensorflow/workspace/images/collectedimages\\thankyou.e741b05c-d11e-11ec-aab1-e3ea9894947b.xml\n",
      "Image:C:\\Users\\palla\\OneDrive\\Desktop\\TFODCourse\\Tensorflow\\workspace\\images\\collectedimages\\thankyou.e9aa4d9c-d11e-11ec-852e-e3ea9894947b.jpg -> Annotation:C:/Users/palla/OneDrive/Desktop/TFODCourse/Tensorflow/workspace/images/collectedimages\\thankyou.e9aa4d9c-d11e-11ec-852e-e3ea9894947b.xml\n",
      "Image:C:\\Users\\palla\\OneDrive\\Desktop\\TFODCourse\\Tensorflow\\workspace\\images\\collectedimages\\thankyou.e876ca0c-d11e-11ec-9bf0-e3ea9894947b.jpg -> Annotation:C:/Users/palla/OneDrive/Desktop/TFODCourse/Tensorflow/workspace/images/collectedimages\\thankyou.e876ca0c-d11e-11ec-9bf0-e3ea9894947b.xml\n",
      "Image:C:\\Users\\palla\\OneDrive\\Desktop\\TFODCourse\\Tensorflow\\workspace\\images\\collectedimages\\thankyou.eadf7420-d11e-11ec-a56a-e3ea9894947b.jpg -> Annotation:C:/Users/palla/OneDrive/Desktop/TFODCourse/Tensorflow/workspace/images/collectedimages\\thankyou.eadf7420-d11e-11ec-a56a-e3ea9894947b.xml\n",
      "Image:C:\\Users\\palla\\OneDrive\\Desktop\\TFODCourse\\Tensorflow\\workspace\\images\\collectedimages\\three.6a256908-d11c-11ec-8305-e3ea9894947b.jpg -> Annotation:C:/Users/palla/OneDrive/Desktop/TFODCourse/Tensorflow/workspace/images/collectedimages\\three.6a256908-d11c-11ec-8305-e3ea9894947b.xml\n",
      "Image:C:\\Users\\palla\\OneDrive\\Desktop\\TFODCourse\\Tensorflow\\workspace\\images\\collectedimages\\three.6b5be60a-d11c-11ec-a0f6-e3ea9894947b.jpg -> Annotation:C:/Users/palla/OneDrive/Desktop/TFODCourse/Tensorflow/workspace/images/collectedimages\\three.6b5be60a-d11c-11ec-a0f6-e3ea9894947b.xml\n",
      "Image:C:\\Users\\palla\\OneDrive\\Desktop\\TFODCourse\\Tensorflow\\workspace\\images\\collectedimages\\three.67b55c7b-d11c-11ec-a29e-e3ea9894947b.jpg -> Annotation:C:/Users/palla/OneDrive/Desktop/TFODCourse/Tensorflow/workspace/images/collectedimages\\three.67b55c7b-d11c-11ec-a29e-e3ea9894947b.xml\n",
      "Image:C:\\Users\\palla\\OneDrive\\Desktop\\TFODCourse\\Tensorflow\\workspace\\images\\collectedimages\\three.667cbeab-d11c-11ec-91bb-e3ea9894947b.jpg -> Annotation:C:/Users/palla/OneDrive/Desktop/TFODCourse/Tensorflow/workspace/images/collectedimages\\three.667cbeab-d11c-11ec-91bb-e3ea9894947b.xml\n",
      "Image:C:\\Users\\palla\\OneDrive\\Desktop\\TFODCourse\\Tensorflow\\workspace\\images\\collectedimages\\thumbsdown.3d800377-d11c-11ec-a858-e3ea9894947b.jpg -> Annotation:C:/Users/palla/OneDrive/Desktop/TFODCourse/Tensorflow/workspace/images/collectedimages\\thumbsdown.3d800377-d11c-11ec-a858-e3ea9894947b.xml\n",
      "Image:C:\\Users\\palla\\OneDrive\\Desktop\\TFODCourse\\Tensorflow\\workspace\\images\\collectedimages\\thumbsdown.3eb6915d-d11c-11ec-9f69-e3ea9894947b.jpg -> Annotation:C:/Users/palla/OneDrive/Desktop/TFODCourse/Tensorflow/workspace/images/collectedimages\\thumbsdown.3eb6915d-d11c-11ec-9f69-e3ea9894947b.xml\n",
      "Image:C:\\Users\\palla\\OneDrive\\Desktop\\TFODCourse\\Tensorflow\\workspace\\images\\collectedimages\\thumbsdown.3fef5ac4-d11c-11ec-a1bf-e3ea9894947b.jpg -> Annotation:C:/Users/palla/OneDrive/Desktop/TFODCourse/Tensorflow/workspace/images/collectedimages\\thumbsdown.3fef5ac4-d11c-11ec-a1bf-e3ea9894947b.xml\n",
      "Image:C:\\Users\\palla\\OneDrive\\Desktop\\TFODCourse\\Tensorflow\\workspace\\images\\collectedimages\\thumbsdown.425ea62e-d11c-11ec-adb9-e3ea9894947b.jpg -> Annotation:C:/Users/palla/OneDrive/Desktop/TFODCourse/Tensorflow/workspace/images/collectedimages\\thumbsdown.425ea62e-d11c-11ec-adb9-e3ea9894947b.xml\n",
      "Image:C:\\Users\\palla\\OneDrive\\Desktop\\TFODCourse\\Tensorflow\\workspace\\images\\collectedimages\\thumbsdown.41279ed3-d11c-11ec-aab0-e3ea9894947b.jpg -> Annotation:C:/Users/palla/OneDrive/Desktop/TFODCourse/Tensorflow/workspace/images/collectedimages\\thumbsdown.41279ed3-d11c-11ec-aab0-e3ea9894947b.xml\n",
      "Image:C:\\Users\\palla\\OneDrive\\Desktop\\TFODCourse\\Tensorflow\\workspace\\images\\collectedimages\\thumbsup.35b4af70-d11c-11ec-8001-e3ea9894947b.jpg -> Annotation:C:/Users/palla/OneDrive/Desktop/TFODCourse/Tensorflow/workspace/images/collectedimages\\thumbsup.35b4af70-d11c-11ec-8001-e3ea9894947b.xml\n",
      "Image:C:\\Users\\palla\\OneDrive\\Desktop\\TFODCourse\\Tensorflow\\workspace\\images\\collectedimages\\thumbsup.36eca0a4-d11c-11ec-a9c8-e3ea9894947b.jpg -> Annotation:C:/Users/palla/OneDrive/Desktop/TFODCourse/Tensorflow/workspace/images/collectedimages\\thumbsup.36eca0a4-d11c-11ec-a9c8-e3ea9894947b.xml\n",
      "Image:C:\\Users\\palla\\OneDrive\\Desktop\\TFODCourse\\Tensorflow\\workspace\\images\\collectedimages\\thumbsup.38202edd-d11c-11ec-9350-e3ea9894947b.jpg -> Annotation:C:/Users/palla/OneDrive/Desktop/TFODCourse/Tensorflow/workspace/images/collectedimages\\thumbsup.38202edd-d11c-11ec-9350-e3ea9894947b.xml\n",
      "Image:C:\\Users\\palla\\OneDrive\\Desktop\\TFODCourse\\Tensorflow\\workspace\\images\\collectedimages\\thumbsup.d3b705e9-d11c-11ec-b19d-e3ea9894947b.jpg -> Annotation:C:/Users/palla/OneDrive/Desktop/TFODCourse/Tensorflow/workspace/images/collectedimages\\thumbsup.d3b705e9-d11c-11ec-b19d-e3ea9894947b.xml\n",
      "Image:C:\\Users\\palla\\OneDrive\\Desktop\\TFODCourse\\Tensorflow\\workspace\\images\\collectedimages\\thumbsup.d27ce050-d11c-11ec-9698-e3ea9894947b.jpg -> Annotation:C:/Users/palla/OneDrive/Desktop/TFODCourse/Tensorflow/workspace/images/collectedimages\\thumbsup.d27ce050-d11c-11ec-9698-e3ea9894947b.xml\n",
      "Image:C:\\Users\\palla\\OneDrive\\Desktop\\TFODCourse\\Tensorflow\\workspace\\images\\collectedimages\\three.68ed0d9b-d11c-11ec-885c-e3ea9894947b.jpg -> Annotation:C:/Users/palla/OneDrive/Desktop/TFODCourse/Tensorflow/workspace/images/collectedimages\\three.68ed0d9b-d11c-11ec-885c-e3ea9894947b.xml\n"
     ]
    }
   ],
   "source": [
    "!cd {LABELIMG_PATH} && python labelImg.py"
   ]
  },
  {
   "cell_type": "markdown",
   "metadata": {},
   "source": [
    "# 6. Move them into a Training and Testing Partition"
   ]
  },
  {
   "cell_type": "markdown",
   "metadata": {},
   "source": [
    "# OPTIONAL - 7. Compress them for Colab Training"
   ]
  },
  {
   "cell_type": "code",
   "execution_count": 26,
   "metadata": {},
   "outputs": [],
   "source": [
    "TRAIN_PATH = os.path.join('Tensorflow', 'workspace', 'images', 'train')\n",
    "TEST_PATH = os.path.join('Tensorflow', 'workspace', 'images', 'test')\n",
    "ARCHIVE_PATH = os.path.join('Tensorflow', 'workspace', 'images', 'archive.tar.gz')"
   ]
  },
  {
   "cell_type": "code",
   "execution_count": 27,
   "metadata": {},
   "outputs": [],
   "source": [
    "!tar -czf {ARCHIVE_PATH} {TRAIN_PATH} {TEST_PATH}"
   ]
  },
  {
   "cell_type": "code",
   "execution_count": null,
   "metadata": {},
   "outputs": [],
   "source": []
  }
 ],
 "metadata": {
  "kernelspec": {
   "display_name": "tfod",
   "language": "python",
   "name": "tfod"
  },
  "language_info": {
   "codemirror_mode": {
    "name": "ipython",
    "version": 3
   },
   "file_extension": ".py",
   "mimetype": "text/x-python",
   "name": "python",
   "nbconvert_exporter": "python",
   "pygments_lexer": "ipython3",
   "version": "3.10.2"
  }
 },
 "nbformat": 4,
 "nbformat_minor": 2
}
